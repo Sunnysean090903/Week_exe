{
 "cells": [
  {
   "cell_type": "code",
   "execution_count": 3,
   "metadata": {},
   "outputs": [],
   "source": [
    "def is_number(n):\n",
    "  try:\n",
    "    float(n)\n",
    "  except ValueError:\n",
    "    return False\n",
    "  return True"
   ]
  },
  {
   "cell_type": "code",
   "execution_count": 2,
   "metadata": {},
   "outputs": [],
   "source": [
    "import math"
   ]
  },
  {
   "cell_type": "code",
   "execution_count": 12,
   "metadata": {},
   "outputs": [],
   "source": [
    "def ex2():\n",
    "    value_x = input(\"Input x = \")\n",
    "    if is_number(value_x):\n",
    "        value = float(value_x)\n",
    "        thuc_hien = input(\"Input activation Function (sigmoid|relu|elu): \")\n",
    "        if thuc_hien == \"sigmoid\":\n",
    "            sigmoid = 1/ (1+math.e**(-value))\n",
    "            print(sigmoid)\n",
    "            return sigmoid\n",
    "        elif thuc_hien == \"relu\":\n",
    "            if value <= 0:\n",
    "                relu = 0\n",
    "            else:\n",
    "                relu = value\n",
    "            print(relu)\n",
    "            return relu\n",
    "        elif thuc_hien == \"elu\":\n",
    "            if value <= 0:\n",
    "                elu = 0.01*((math.e**value)-1)\n",
    "            else:\n",
    "                elu = value\n",
    "            print(elu)\n",
    "            return elu\n",
    "        else:\n",
    "            print(f\"{thuc_hien} is not supported\")\n",
    "            return\n",
    "    else:\n",
    "        print(\"x must be a number\")\n",
    "        return"
   ]
  },
  {
   "cell_type": "code",
   "execution_count": 9,
   "metadata": {},
   "outputs": [
    {
     "name": "stdout",
     "output_type": "stream",
     "text": [
      "<class 'float'>\n"
     ]
    }
   ],
   "source": [
    "value_x = input(\"Input x = \")\n",
    "is_number(value_x)\n",
    "print(type(float(value_x)))"
   ]
  },
  {
   "cell_type": "code",
   "execution_count": 11,
   "metadata": {},
   "outputs": [
    {
     "name": "stdout",
     "output_type": "stream",
     "text": [
      "-0.006321205588285576\n",
      "-0.01\n"
     ]
    }
   ],
   "source": [
    "elu2 = ex2()\n",
    "print(round(elu2, 2))"
   ]
  },
  {
   "cell_type": "code",
   "execution_count": 13,
   "metadata": {},
   "outputs": [
    {
     "name": "stdout",
     "output_type": "stream",
     "text": [
      "0.9525741268224331\n"
     ]
    },
    {
     "data": {
      "text/plain": [
       "0.9525741268224331"
      ]
     },
     "execution_count": 13,
     "metadata": {},
     "output_type": "execute_result"
    }
   ],
   "source": [
    "ex2()"
   ]
  }
 ],
 "metadata": {
  "kernelspec": {
   "display_name": "Python 3",
   "language": "python",
   "name": "python3"
  },
  "language_info": {
   "codemirror_mode": {
    "name": "ipython",
    "version": 3
   },
   "file_extension": ".py",
   "mimetype": "text/x-python",
   "name": "python",
   "nbconvert_exporter": "python",
   "pygments_lexer": "ipython3",
   "version": "3.12.2"
  }
 },
 "nbformat": 4,
 "nbformat_minor": 2
}
