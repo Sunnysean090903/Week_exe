{
 "cells": [
  {
   "cell_type": "code",
   "execution_count": 1,
   "metadata": {},
   "outputs": [],
   "source": [
    "import random\n",
    "import math"
   ]
  },
  {
   "cell_type": "code",
   "execution_count": 2,
   "metadata": {},
   "outputs": [],
   "source": [
    "def is_number(n):\n",
    "    if isinstance(n, int):\n",
    "        return True\n",
    "    return False"
   ]
  },
  {
   "cell_type": "code",
   "execution_count": 8,
   "metadata": {},
   "outputs": [],
   "source": [
    "def ex3():\n",
    "    sample = input(\"Input number of samples (integer number) which are generated\")\n",
    "    sample_int = int(sample)\n",
    "    if is_number(sample_int):\n",
    "        loss_name = input(\"Input loss name: \")\n",
    "        if loss_name == \"MAE\":\n",
    "            tong = 0\n",
    "            for i in range(sample_int):\n",
    "                pred = random.uniform(0,10)\n",
    "                target = random.uniform(0,10)\n",
    "                loss = abs(target - pred)\n",
    "                tong = tong + loss\n",
    "                print(f\"loss name: {loss_name}, sample: {i}, pred: {pred}, target: {target}, loss: {loss}\")\n",
    "            print(f\"Final MSA: {tong/sample_int}\")\n",
    "            return\n",
    "        elif loss_name == \"MSE\":\n",
    "            tong = 0\n",
    "            for i in range(sample_int):\n",
    "                pred = random.uniform(0,10)\n",
    "                target = random.uniform(0,10)\n",
    "                loss = (target - pred)**2\n",
    "                tong = tong + loss\n",
    "                print(f\"loss name: {loss_name}, sample: {i}, pred: {pred}, target: {target}, loss: {loss}\")\n",
    "            print(f\"Final MSE: {tong/sample_int}\")\n",
    "            return\n",
    "        elif loss_name == \"RMSE\":\n",
    "            tong = 0\n",
    "            for i in range(sample_int):\n",
    "                pred = random.uniform(0,10)\n",
    "                target = random.uniform(0,10)\n",
    "                loss = (target - pred)**2\n",
    "                tong = tong + loss\n",
    "                print(f\"loss name: {loss_name}, sample: {i}, pred: {pred}, target: {target}, loss: {loss}\")\n",
    "            print(f\"Final MSE: {math.sqrt(tong/sample_int)}\")\n",
    "            return\n",
    "    else:\n",
    "        print(\"number of samples must be an integer number\")\n",
    "        return\n"
   ]
  },
  {
   "cell_type": "code",
   "execution_count": 9,
   "metadata": {},
   "outputs": [
    {
     "name": "stdout",
     "output_type": "stream",
     "text": [
      "loss name: RMSE, sample: 0, pred: 3.2003766378649656, target: 2.736723393101701, loss: 0.21497433137950378\n",
      "loss name: RMSE, sample: 1, pred: 4.880578346651494, target: 8.036597293148512, loss: 9.960455590648149\n",
      "loss name: RMSE, sample: 2, pred: 5.890821673502793, target: 7.247409160140588, loss: 1.84032960890225\n",
      "loss name: RMSE, sample: 3, pred: 0.47198464829213416, target: 5.3873075236309305, loss: 24.160398968828858\n",
      "loss name: RMSE, sample: 4, pred: 4.989606536860051, target: 6.699267998323143, loss: 2.9229423128121166\n",
      "Final MSE: 2.7963941357602247\n"
     ]
    }
   ],
   "source": [
    "ex3()"
   ]
  },
  {
   "cell_type": "code",
   "execution_count": null,
   "metadata": {},
   "outputs": [],
   "source": []
  },
  {
   "cell_type": "code",
   "execution_count": null,
   "metadata": {},
   "outputs": [],
   "source": []
  },
  {
   "cell_type": "code",
   "execution_count": null,
   "metadata": {},
   "outputs": [],
   "source": []
  },
  {
   "cell_type": "code",
   "execution_count": null,
   "metadata": {},
   "outputs": [],
   "source": []
  }
 ],
 "metadata": {
  "kernelspec": {
   "display_name": "Python 3",
   "language": "python",
   "name": "python3"
  },
  "language_info": {
   "codemirror_mode": {
    "name": "ipython",
    "version": 3
   },
   "file_extension": ".py",
   "mimetype": "text/x-python",
   "name": "python",
   "nbconvert_exporter": "python",
   "pygments_lexer": "ipython3",
   "version": "3.12.2"
  }
 },
 "nbformat": 4,
 "nbformat_minor": 2
}
