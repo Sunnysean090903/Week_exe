{
 "cells": [
  {
   "cell_type": "code",
   "execution_count": 2,
   "id": "d5ebb050-20b9-4be2-9499-a393028c4c92",
   "metadata": {},
   "outputs": [],
   "source": [
    "def is_number(n):\n",
    "    if isinstance(n, int):\n",
    "        return True\n",
    "    return False"
   ]
  },
  {
   "cell_type": "code",
   "execution_count": 7,
   "id": "ff43b798",
   "metadata": {},
   "outputs": [],
   "source": [
    "def ex1(tp, fp, fn):\n",
    "    if is_number(tp) and is_number(fp) and not is_number(fn):\n",
    "        print(\"fn must be int\")\n",
    "        return\n",
    "    elif is_number(tp) and not is_number(fp) and is_number(fn):\n",
    "        print(\"fp must be int\")\n",
    "        return\n",
    "    elif not is_number(tp) and is_number(fp) and is_number(fn):\n",
    "        print(\"tp must be int\")\n",
    "        return\n",
    "    else:\n",
    "        if tp == 0 or fp == 0 or fn == 0:\n",
    "            print(\"tp and fp and fn must be greater than zero\")\n",
    "            return\n",
    "        precision = tp / (tp+fp)\n",
    "        recall = tp / (tp+fn)\n",
    "        f1_score = 2*((precision*recall)/(precision+recall))\n",
    "        print(f\"precision is {precision}\")\n",
    "        print(f\"recall is {recall}\")\n",
    "        print(f\"f1-score is {f1_score}\")\n",
    "        return\n"
   ]
  },
  {
   "cell_type": "code",
   "execution_count": 9,
   "id": "7ccec0ee",
   "metadata": {},
   "outputs": [
    {
     "name": "stdout",
     "output_type": "stream",
     "text": [
      "precision is 0.4\n",
      "recall is 0.2857142857142857\n",
      "f1-score is 0.3333333333333333\n"
     ]
    }
   ],
   "source": [
    "ex1(tp=2,fp=3,fn=5)"
   ]
  },
  {
   "cell_type": "code",
   "execution_count": 5,
   "id": "fcc7ac82",
   "metadata": {},
   "outputs": [
    {
     "name": "stdout",
     "output_type": "stream",
     "text": [
      "2.718281828459045\n"
     ]
    }
   ],
   "source": [
    "import math\n",
    "print(math.e)"
   ]
  },
  {
   "cell_type": "code",
   "execution_count": 8,
   "id": "0dc164ca",
   "metadata": {},
   "outputs": [
    {
     "name": "stdout",
     "output_type": "stream",
     "text": [
      "precision is 0.4\n",
      "recall is 0.2857142857142857\n",
      "f1-score is 0.3333333333333333\n"
     ]
    },
    {
     "ename": "TypeError",
     "evalue": "type NoneType doesn't define __round__ method",
     "output_type": "error",
     "traceback": [
      "\u001b[1;31m---------------------------------------------------------------------------\u001b[0m",
      "\u001b[1;31mTypeError\u001b[0m                                 Traceback (most recent call last)",
      "Cell \u001b[1;32mIn[8], line 1\u001b[0m\n\u001b[1;32m----> 1\u001b[0m \u001b[38;5;28;01massert\u001b[39;00m \u001b[38;5;28;43mround\u001b[39;49m\u001b[43m(\u001b[49m\u001b[43mex1\u001b[49m\u001b[43m(\u001b[49m\u001b[43mtp\u001b[49m\u001b[38;5;241;43m=\u001b[39;49m\u001b[38;5;241;43m2\u001b[39;49m\u001b[43m,\u001b[49m\u001b[43mfp\u001b[49m\u001b[38;5;241;43m=\u001b[39;49m\u001b[38;5;241;43m3\u001b[39;49m\u001b[43m,\u001b[49m\u001b[43mfn\u001b[49m\u001b[38;5;241;43m=\u001b[39;49m\u001b[38;5;241;43m5\u001b[39;49m\u001b[43m)\u001b[49m\u001b[43m,\u001b[49m\u001b[38;5;241;43m2\u001b[39;49m\u001b[43m)\u001b[49m \u001b[38;5;241m==\u001b[39m \u001b[38;5;241m0.33\u001b[39m\n\u001b[0;32m      2\u001b[0m \u001b[38;5;28mprint\u001b[39m(\u001b[38;5;28mround\u001b[39m(ex1(tp\u001b[38;5;241m=\u001b[39m\u001b[38;5;241m2\u001b[39m,fp\u001b[38;5;241m=\u001b[39m\u001b[38;5;241m3\u001b[39m,fn\u001b[38;5;241m=\u001b[39m\u001b[38;5;241m5\u001b[39m),\u001b[38;5;241m2\u001b[39m))\n",
      "\u001b[1;31mTypeError\u001b[0m: type NoneType doesn't define __round__ method"
     ]
    }
   ],
   "source": [
    "assert round(ex1(tp=2,fp=3,fn=5),2) == 0.33\n",
    "print(round(ex1(tp=2,fp=3,fn=5),2))"
   ]
  },
  {
   "cell_type": "code",
   "execution_count": 10,
   "id": "06b9e907",
   "metadata": {},
   "outputs": [],
   "source": [
    "def calc_f1_score(tp, fp, fn):\n",
    "    if is_number(tp) and is_number(fp) and not is_number(fn):\n",
    "        print(\"fn must be int\")\n",
    "        return\n",
    "    elif is_number(tp) and not is_number(fp) and is_number(fn):\n",
    "        print(\"fp must be int\")\n",
    "        return\n",
    "    elif not is_number(tp) and is_number(fp) and is_number(fn):\n",
    "        print(\"tp must be int\")\n",
    "        return\n",
    "    else:\n",
    "        if tp == 0 or fp == 0 or fn == 0:\n",
    "            print(\"tp and fp and fn must be greater than zero\")\n",
    "            return\n",
    "        precision = tp / (tp+fp)\n",
    "        recall = tp / (tp+fn)\n",
    "        f1_score = 2*((precision*recall)/(precision+recall))\n",
    "        return f1_score"
   ]
  },
  {
   "cell_type": "code",
   "execution_count": 13,
   "id": "829c2c02",
   "metadata": {},
   "outputs": [
    {
     "name": "stdout",
     "output_type": "stream",
     "text": [
      "0.31\n"
     ]
    }
   ],
   "source": [
    "assert round(calc_f1_score(tp=2,fp=3,fn=5),2) == 0.33, \"Sai\"\n",
    "print(round(calc_f1_score(tp=2,fp=4,fn=5),2))"
   ]
  },
  {
   "cell_type": "code",
   "execution_count": 14,
   "id": "2c3bcdb8",
   "metadata": {},
   "outputs": [
    {
     "ename": "AssertionError",
     "evalue": "Sai",
     "output_type": "error",
     "traceback": [
      "\u001b[1;31m---------------------------------------------------------------------------\u001b[0m",
      "\u001b[1;31mAssertionError\u001b[0m                            Traceback (most recent call last)",
      "Cell \u001b[1;32mIn[14], line 1\u001b[0m\n\u001b[1;32m----> 1\u001b[0m \u001b[38;5;28;01massert\u001b[39;00m \u001b[38;5;28mround\u001b[39m(calc_f1_score(tp\u001b[38;5;241m=\u001b[39m\u001b[38;5;241m2\u001b[39m,fp\u001b[38;5;241m=\u001b[39m\u001b[38;5;241m3\u001b[39m,fn\u001b[38;5;241m=\u001b[39m\u001b[38;5;241m5\u001b[39m),\u001b[38;5;241m2\u001b[39m) \u001b[38;5;241m==\u001b[39m \u001b[38;5;241m0.35\u001b[39m, \u001b[38;5;124m\"\u001b[39m\u001b[38;5;124mSai\u001b[39m\u001b[38;5;124m\"\u001b[39m\n",
      "\u001b[1;31mAssertionError\u001b[0m: Sai"
     ]
    }
   ],
   "source": []
  }
 ],
 "metadata": {
  "kernelspec": {
   "display_name": "Python 3 (ipykernel)",
   "language": "python",
   "name": "python3"
  },
  "language_info": {
   "codemirror_mode": {
    "name": "ipython",
    "version": 3
   },
   "file_extension": ".py",
   "mimetype": "text/x-python",
   "name": "python",
   "nbconvert_exporter": "python",
   "pygments_lexer": "ipython3",
   "version": "3.12.2"
  }
 },
 "nbformat": 4,
 "nbformat_minor": 5
}
