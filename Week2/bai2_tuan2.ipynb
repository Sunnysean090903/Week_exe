{
 "cells": [
  {
   "cell_type": "code",
   "execution_count": 20,
   "metadata": {},
   "outputs": [],
   "source": [
    "def count_chars(chuoi):\n",
    "    dict = {}\n",
    "    count_ky_tu = 1\n",
    "    for ky_tu in chuoi:\n",
    "        ky_tu = ky_tu.lower()\n",
    "        if ky_tu in dict:\n",
    "            dict[ky_tu] += 1\n",
    "        else:\n",
    "            dict[ky_tu] = 1\n",
    "    return dict\n",
    "    "
   ]
  },
  {
   "cell_type": "code",
   "execution_count": 24,
   "metadata": {},
   "outputs": [
    {
     "data": {
      "text/plain": [
       "{'s': 3, 'm': 2, 'i': 2, 'l': 1, 'e': 1}"
      ]
     },
     "execution_count": 24,
     "metadata": {},
     "output_type": "execute_result"
    }
   ],
   "source": [
    "chuoi = \"SMmilesSI\"\n",
    "count_chars(chuoi)"
   ]
  },
  {
   "cell_type": "code",
   "execution_count": 4,
   "metadata": {},
   "outputs": [
    {
     "name": "stdout",
     "output_type": "stream",
     "text": [
      "Python\n",
      "dictionary\n",
      "example\n"
     ]
    }
   ],
   "source": [
    "dict = {\n",
    "  1: 'Python', \n",
    "  2: 'dictionary', \n",
    "  3: 'example'\n",
    "}\n",
    "for i in dict:\n",
    "    print(dict[i])"
   ]
  },
  {
   "cell_type": "code",
   "execution_count": null,
   "metadata": {},
   "outputs": [],
   "source": []
  }
 ],
 "metadata": {
  "kernelspec": {
   "display_name": "Python 3",
   "language": "python",
   "name": "python3"
  },
  "language_info": {
   "codemirror_mode": {
    "name": "ipython",
    "version": 3
   },
   "file_extension": ".py",
   "mimetype": "text/x-python",
   "name": "python",
   "nbconvert_exporter": "python",
   "pygments_lexer": "ipython3",
   "version": "3.12.2"
  }
 },
 "nbformat": 4,
 "nbformat_minor": 2
}
